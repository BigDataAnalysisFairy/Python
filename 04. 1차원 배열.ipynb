{
 "cells": [
  {
   "cell_type": "markdown",
   "metadata": {
    "vscode": {
     "languageId": "plaintext"
    }
   },
   "source": [
    "# 10807"
   ]
  },
  {
   "cell_type": "markdown",
   "metadata": {
    "vscode": {
     "languageId": "plaintext"
    }
   },
   "source": [
    "배열을 입력받고 v를 찾는 문제"
   ]
  },
  {
   "cell_type": "code",
   "execution_count": null,
   "metadata": {},
   "outputs": [
    {
     "name": "stdout",
     "output_type": "stream",
     "text": [
      "3\n"
     ]
    }
   ],
   "source": [
    "N = int(input())\n",
    "x = list(map(int, input().split()))\n",
    "v = int(input())\n",
    "print(x.count(v))"
   ]
  },
  {
   "cell_type": "markdown",
   "metadata": {},
   "source": [
    "# 10871"
   ]
  },
  {
   "cell_type": "markdown",
   "metadata": {},
   "source": [
    "배열을 입력받고 X보다 작은 수를 찾는 문제"
   ]
  },
  {
   "cell_type": "code",
   "execution_count": 3,
   "metadata": {},
   "outputs": [
    {
     "name": "stdout",
     "output_type": "stream",
     "text": [
      "1 4 2 3 "
     ]
    }
   ],
   "source": [
    "N, X = map(int, input().split())\n",
    "A = list(map(int, input().split()))\n",
    "for i in A:\n",
    "    if i < X:\n",
    "        print(i, end=' ')"
   ]
  },
  {
   "cell_type": "markdown",
   "metadata": {},
   "source": [
    "# 10818"
   ]
  },
  {
   "cell_type": "markdown",
   "metadata": {},
   "source": [
    "N개의 정수가 주어진다. 이때, 최솟값과 최댓값을 구하는 프로그램을 작성하시오."
   ]
  },
  {
   "cell_type": "code",
   "execution_count": null,
   "metadata": {},
   "outputs": [
    {
     "name": "stdout",
     "output_type": "stream",
     "text": [
      "7 35\n"
     ]
    }
   ],
   "source": [
    "N = int(input())\n",
    "A = list(map(int, input().split()))\n",
    "print(min(A),max(A))"
   ]
  },
  {
   "cell_type": "markdown",
   "metadata": {},
   "source": [
    "# 2562"
   ]
  },
  {
   "cell_type": "markdown",
   "metadata": {},
   "source": [
    "최댓값이 어디에 있는지 찾는 문제"
   ]
  },
  {
   "cell_type": "code",
   "execution_count": 7,
   "metadata": {},
   "outputs": [
    {
     "name": "stdout",
     "output_type": "stream",
     "text": [
      "85\n",
      "8\n"
     ]
    }
   ],
   "source": [
    "big = []\n",
    "for i in range(9):\n",
    "    N = int(input())\n",
    "    big.append(N)\n",
    "    \n",
    "print(max(big))\n",
    "print(big.index(max(big))+1)"
   ]
  },
  {
   "cell_type": "markdown",
   "metadata": {},
   "source": [
    "# 10810"
   ]
  },
  {
   "cell_type": "markdown",
   "metadata": {},
   "source": [
    "배열에 값을 쓰는 문제"
   ]
  },
  {
   "cell_type": "code",
   "execution_count": null,
   "metadata": {},
   "outputs": [
    {
     "name": "stdout",
     "output_type": "stream",
     "text": [
      "1 2 1 1 0 "
     ]
    }
   ],
   "source": [
    "N, M = map(int, input().split())\n",
    "basket = []\n",
    "for _ in range(N):\n",
    "    basket.append(0)\n",
    "    \n",
    "for _ in range(M):\n",
    "    i, j, k = map(int, input().split())\n",
    "    for _ in range(i-1, j):\n",
    "        basket[_] = k\n",
    "\n",
    "for _ in basket:\n",
    "    print(_, end=' ')"
   ]
  },
  {
   "cell_type": "markdown",
   "metadata": {},
   "source": [
    "# 10813"
   ]
  },
  {
   "cell_type": "markdown",
   "metadata": {},
   "source": [
    "배열의 값을 교환하는 문제"
   ]
  },
  {
   "cell_type": "code",
   "execution_count": null,
   "metadata": {},
   "outputs": [
    {
     "name": "stdout",
     "output_type": "stream",
     "text": [
      "[1, 2, 3, 4, 5]\n",
      "[2, 1, 3, 4, 5]\n",
      "[2, 1, 4, 3, 5]\n",
      "[3, 1, 4, 2, 5]\n",
      "[3, 1, 4, 2, 5]\n",
      "3 1 4 2 5 "
     ]
    }
   ],
   "source": [
    "N, M = map(int, input().split())\n",
    "basket = []\n",
    "\n",
    "for _ in range(1, N+1):\n",
    "    basket.append(_)\n",
    "\n",
    "for _ in range(M):\n",
    "    i, j = map(int, input().split())\n",
    "    temp = basket[i-1]\n",
    "    basket[i-1] = basket[j-1]\n",
    "    basket[j-1] = temp\n",
    "\n",
    "for _ in basket:\n",
    "    print(_, end=' ')"
   ]
  },
  {
   "cell_type": "markdown",
   "metadata": {},
   "source": [
    "# 5597"
   ]
  },
  {
   "cell_type": "markdown",
   "metadata": {},
   "source": [
    "과제 제출 기한이 지났습니다."
   ]
  },
  {
   "cell_type": "code",
   "execution_count": 69,
   "metadata": {},
   "outputs": [
    {
     "name": "stdout",
     "output_type": "stream",
     "text": [
      "2\n",
      "8\n"
     ]
    }
   ],
   "source": [
    "A = []\n",
    "for i in range(28):\n",
    "    n = int(input())\n",
    "    A.append(n)\n",
    "\n",
    "B = []\n",
    "for i in range(1, 31):\n",
    "    if i not in A:\n",
    "        B.append(i)\n",
    "print(f'{min(B)}\\n{max(B)}')"
   ]
  },
  {
   "cell_type": "markdown",
   "metadata": {},
   "source": [
    "# 3052"
   ]
  },
  {
   "cell_type": "markdown",
   "metadata": {},
   "source": [
    "배열을 활용하여 서로 다른 값의 개수를 찾는 문제"
   ]
  },
  {
   "cell_type": "code",
   "execution_count": 14,
   "metadata": {},
   "outputs": [
    {
     "name": "stdout",
     "output_type": "stream",
     "text": [
      "{0, 1, 2, 39, 40, 41}\n",
      "6\n"
     ]
    }
   ],
   "source": [
    "A = [] \n",
    "\n",
    "for i in range(10):\n",
    "    N = int(input())\n",
    "    A.append(N % 42)\n",
    "\n",
    "print(len(set(A)))"
   ]
  },
  {
   "cell_type": "markdown",
   "metadata": {},
   "source": [
    "# 10811"
   ]
  },
  {
   "cell_type": "markdown",
   "metadata": {},
   "source": [
    "배열을 뒤집는 문제"
   ]
  },
  {
   "cell_type": "code",
   "execution_count": null,
   "metadata": {},
   "outputs": [
    {
     "name": "stdout",
     "output_type": "stream",
     "text": [
      "3 4 1 2 5 "
     ]
    }
   ],
   "source": [
    "N, M = map(int, input().split())\n",
    "basket = []\n",
    "\n",
    "for _ in range(1, N+1):\n",
    "    basket.append(_)\n",
    "\n",
    "for _ in range(M):\n",
    "    i, j = map(int, input().split())\n",
    "    basket[i-1:j] = reversed(basket[i-1:j])\n",
    "\n",
    "# print(list(reversed(basket)))\n",
    "\n",
    "for _ in basket:\n",
    "    print(_, end=' ')"
   ]
  },
  {
   "cell_type": "markdown",
   "metadata": {},
   "source": [
    "# 1546"
   ]
  },
  {
   "cell_type": "markdown",
   "metadata": {},
   "source": [
    "평균을 조작하는 문제"
   ]
  },
  {
   "cell_type": "code",
   "execution_count": null,
   "metadata": {},
   "outputs": [
    {
     "name": "stdout",
     "output_type": "stream",
     "text": [
      "[1, 100, 100, 100]\n",
      "75.25\n"
     ]
    }
   ],
   "source": [
    "N = int(input())\n",
    "exam = list(map(int, input().split()))\n",
    "\n",
    "change = []\n",
    "total = 0\n",
    "\n",
    "for i in exam:\n",
    "    change.append(i/max(exam)*100)\n",
    "\n",
    "for i in change:\n",
    "    total+=i\n",
    "print(total/N)"
   ]
  }
 ],
 "metadata": {
  "kernelspec": {
   "display_name": "pypots",
   "language": "python",
   "name": "python3"
  },
  "language_info": {
   "codemirror_mode": {
    "name": "ipython",
    "version": 3
   },
   "file_extension": ".py",
   "mimetype": "text/x-python",
   "name": "python",
   "nbconvert_exporter": "python",
   "pygments_lexer": "ipython3",
   "version": "3.9.19"
  }
 },
 "nbformat": 4,
 "nbformat_minor": 2
}
